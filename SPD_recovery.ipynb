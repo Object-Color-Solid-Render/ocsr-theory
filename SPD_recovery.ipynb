{
 "cells": [
  {
   "cell_type": "code",
   "execution_count": 154,
   "metadata": {},
   "outputs": [],
   "source": [
    "import numpy as np\n",
    "from scipy.linalg import pinv\n",
    "from chromalab.observer import Observer, Cone\n",
    "from chromalab.spectra import Illuminant\n",
    "import matplotlib.pyplot as plt\n",
    "from chromalab.spectra import Spectra"
   ]
  },
  {
   "cell_type": "markdown",
   "metadata": {},
   "source": []
  },
  {
   "cell_type": "code",
   "execution_count": 33,
   "metadata": {},
   "outputs": [],
   "source": [
    "def plot_color_square(color):\n",
    "    \"\"\"\n",
    "    Plots a square image filled with the interpolated color.\n",
    "\n",
    "    Parameters:\n",
    "    interpolated_color: numpy array of shape (3,), the RGB color to fill the square with.\n",
    "    \"\"\"\n",
    "    # Create a figure and axis\n",
    "    fig, ax = plt.subplots()\n",
    "\n",
    "    # Set the background color to the interpolated color\n",
    "    ax.set_facecolor(color)\n",
    "\n",
    "    # Remove ticks and labels\n",
    "    ax.set_xticks([])\n",
    "    ax.set_yticks([])\n",
    "\n",
    "    # Set the axis limits to make it a square\n",
    "    ax.set_xlim([0, 1])\n",
    "    ax.set_ylim([0, 1])\n",
    "\n",
    "    # Display the square\n",
    "    plt.show()"
   ]
  },
  {
   "cell_type": "code",
   "execution_count": 118,
   "metadata": {},
   "outputs": [],
   "source": [
    "# Define parameters\n",
    "wavelengths = np.arange(390, 701, 1)\n",
    "n = len(wavelengths)\n",
    "\n",
    "# Load the trichromatic observer and illuminant\n",
    "standard_trichromat = Observer.trichromat(wavelengths)\n",
    "illuminant = Illuminant.get(\"D65\").interpolate_values(wavelengths)\n"
   ]
  },
  {
   "cell_type": "code",
   "execution_count": 151,
   "metadata": {},
   "outputs": [
    {
     "name": "stdout",
     "output_type": "stream",
     "text": [
      "0.836449883625\n"
     ]
    }
   ],
   "source": [
    "# Extract LMS responses (cone fundamentals)\n",
    "lms_responses = np.vstack((\n",
    "    standard_trichromat.sensors[2].data,  # L cone\n",
    "    standard_trichromat.sensors[1].data,  # M cone\n",
    "    standard_trichromat.sensors[0].data   # S cone\n",
    ")) * illuminant.data\n",
    "\n",
    "print(max(lms_responses[0]))\n",
    "\n",
    "# Normalize LMS responses\n",
    "lms_responses /= lms_responses.sum(axis=0, keepdims=True)\n",
    "\n",
    "# Transformation matrix from LMS to RGB\n",
    "lms_to_rgb_transformation = np.array([\n",
    "    [ 5.47221206, -4.6419601 ,  0.16963708],\n",
    "    [-1.1252419 ,  2.29317094, -0.1678952 ],\n",
    "    [ 0.02980165, -0.19318073,  1.16364789]\n",
    "])"
   ]
  },
  {
   "cell_type": "code",
   "execution_count": 120,
   "metadata": {},
   "outputs": [
    {
     "name": "stdout",
     "output_type": "stream",
     "text": [
      "[[ 0.31399022  0.63951294  0.04649754]\n",
      " [ 0.15537241  0.75789446  0.08670142]\n",
      " [ 0.01775239  0.1094421   0.87256923]]\n"
     ]
    }
   ],
   "source": [
    "\n",
    "# Inverse transformation (RGB to LMS)\n",
    "rgb_to_lms_transformation = np.linalg.inv(lms_to_rgb_transformation)\n",
    "print(rgb_to_lms_transformation)"
   ]
  },
  {
   "cell_type": "code",
   "execution_count": null,
   "metadata": {},
   "outputs": [],
   "source": [
    "# Recover SPD from RGB value\n",
    "def recover_illuminance(rgb):\n",
    "    # Convert RGB to LMS\n",
    "    lms = rgb_to_lms_transformation @ rgb\n",
    "    print(lms)\n",
    "    print(lms_to_rgb_transformation @ lms)\n",
    "\n",
    "    # Compute pseudoinverse of LMS responses\n",
    "    basis_vectors = lms_responses\n",
    "    print(basis_vectors.shape)\n",
    "    basis_pinv = pinv(basis_vectors)\n",
    "    print(basis_pinv.shape)\n",
    "\n",
    "    # Solve for SPD\n",
    "    spd = basis_pinv @ lms\n",
    "    \n",
    "    return spd"
   ]
  },
  {
   "cell_type": "code",
   "execution_count": 184,
   "metadata": {},
   "outputs": [
    {
     "data": {
      "image/png": "[encoded data removed]",
      "text/plain": [
       "<Figure size 640x480 with 1 Axes>"
      ]
     },
     "metadata": {},
     "output_type": "display_data"
    },
    {
     "name": "stdout",
     "output_type": "stream",
     "text": [
      "[ 0.18024388  0.12103691  0.44516081]\n",
      "[  5.00000000e-01  -2.77555756e-17   5.00000000e-01]\n",
      "(3, 311)\n",
      "(311, 3)\n",
      "(311,)\n"
     ]
    },
    {
     "data": {
      "image/png": "[encoded data removed]",
      "text/plain": [
       "<Figure size 640x480 with 1 Axes>"
      ]
     },
     "metadata": {},
     "output_type": "display_data"
    },
    {
     "data": {
      "image/png": "[encoded data removed]",
      "text/plain": [
       "<Figure size 640x480 with 1 Axes>"
      ]
     },
     "metadata": {},
     "output_type": "display_data"
    }
   ],
   "source": [
    "def bound(rgb):\n",
    "    return np.clip(rgb, 0, 1)\n",
    "\n",
    "# Gamma correction for sRGB space.\n",
    "def gamma_correct(rgb):\n",
    "    rgb_corrected = np.where(\n",
    "        rgb <= 0.0031308,\n",
    "        12.92 * rgb,\n",
    "        1.055 * np.power(rgb, 1 / 2.4) - 0.055\n",
    "    )\n",
    "    return rgb_corrected\n",
    "\n",
    "# Example RGB input (normalized to [0, 1])\n",
    "rgb_input = np.array([0.5, 0.0, 0.5])\n",
    "plot_color_square(rgb_input)\n",
    "spd_recovered = recover_illuminance(rgb_input)\n",
    "\n",
    "# lms = rgb_to_lms_transformation @ rgb_input\n",
    "# tri_col = bound(lms_to_rgb_transformation @ lms)\n",
    "# plot_color_square(tri_col)\n",
    "\n",
    "\n",
    "# print(\"Recovered SPD:\", spd_recovered)\n",
    "print(spd_recovered.shape)\n",
    "\n",
    "\n",
    "# temp = gamma_correct(bound(lms_to_rgb_transformation @ lms_responses @ spd_recovered))\n",
    "# print(\"lms_to_rgb_transformation @ temp: \", temp)\n",
    "# plot_color_square(temp)\n",
    "\n",
    "plot_color_square(bound(lms_to_rgb_transformation @ lms_responses @ spd_recovered))\n",
    "\n",
    "\n",
    "ms_to_rgb_transformation = np.array([\n",
    "    [ 0, 1.05118294,  -0.05116099],\n",
    "    [ 0,  1, 0],\n",
    "    [ 0, 0,  1]\n",
    "    ])\n",
    "\n",
    "plot_color_square(bound(lms_to_rgb_transformation @ ms_to_rgb_transformation @ lms_responses @ spd_recovered))\n",
    "\n",
    "\n",
    "# reflectance = Spectra(wavelengths=wavelengths, data=spd_recovered)\n",
    "# print(reflectance.to_rgb(illuminant))\n",
    "# plot_color_square(reflectance.to_rgb(illuminant))\n",
    "\n",
    "\n",
    "# rgb = bound(lms_to_rgb_transformation @ ms_to_rgb_transformation @ lms)\n",
    "# plot_color_square(rgb)\n",
    "\n"
   ]
  },
  {
   "cell_type": "code",
   "execution_count": 185,
   "metadata": {},
   "outputs": [
    {
     "data": {
      "image/png": "[encoded data removed]",
      "text/plain": [
       "<Figure size 640x480 with 1 Axes>"
      ]
     },
     "metadata": {},
     "output_type": "display_data"
    }
   ],
   "source": [
    "anomalous_l_cone = Cone.cone(525, template=\"stockman\", od=0.35, wavelengths=wavelengths)\n",
    "anomalous_m_cone = Cone.cone(525, template=\"stockman\", od=0.15, wavelengths=wavelengths)\n",
    "anomalous_s_cone = Cone.cone(419, template=\"stockman\", od=0.5, wavelengths=wavelengths)\n",
    "\n",
    "anomalous_lms_responses = np.vstack((anomalous_l_cone.data, anomalous_m_cone.data, anomalous_s_cone.data))\n",
    "\n",
    "\n",
    "plot_color_square(bound(lms_to_rgb_transformation  @ anomalous_lms_responses @ spd_recovered))\n"
   ]
  },
  {
   "cell_type": "code",
   "execution_count": 186,
   "metadata": {},
   "outputs": [
    {
     "data": {
      "image/png": "[encoded data removed]",
      "text/plain": [
       "<Figure size 640x480 with 1 Axes>"
      ]
     },
     "metadata": {},
     "output_type": "display_data"
    }
   ],
   "source": [
    "anomalous_l_cone = Cone.cone(528, template=\"stockman\", od=0.35, wavelengths=wavelengths)\n",
    "anomalous_m_cone = Cone.cone(525, template=\"stockman\", od=0.15, wavelengths=wavelengths)\n",
    "anomalous_s_cone = Cone.cone(319, template=\"stockman\", od=0.5, wavelengths=wavelengths)\n",
    "\n",
    "anomalous_lms_responses = np.vstack((anomalous_l_cone.data, anomalous_m_cone.data, anomalous_s_cone.data))\n",
    "\n",
    "\n",
    "plot_color_square(bound(lms_to_rgb_transformation @ anomalous_lms_responses @ spd_recovered))"
   ]
  },
  {
   "cell_type": "code",
   "execution_count": null,
   "metadata": {},
   "outputs": [
    {
     "data": {
      "image/png": "[encoded data removed]",
      "text/plain": [
       "<Figure size 640x480 with 1 Axes>"
      ]
     },
     "metadata": {},
     "output_type": "display_data"
    }
   ],
   "source": [
    "anomalous_l_cone = Cone.cone(531, template=\"stockman\", od=0.35, wavelengths=wavelengths)\n",
    "anomalous_m_cone = Cone.cone(525, template=\"stockman\", od=0.15, wavelengths=wavelengths)\n",
    "anomalous_s_cone = Cone.cone(319, template=\"stockman\", od=0.5, wavelengths=wavelengths)\n",
    "\n",
    "anomalous_lms_responses = np.vstack((anomalous_l_cone.data, anomalous_m_cone.data, anomalous_s_cone.data))\n",
    "\n",
    "\n",
    "plot_color_square(bound(lms_to_rgb_transformation @ anomalous_lms_responses @ spd_recovered))"
   ]
  },
  {
   "cell_type": "code",
   "execution_count": 188,
   "metadata": {},
   "outputs": [
    {
     "data": {
      "image/png": "[encoded data removed]",
      "text/plain": [
       "<Figure size 640x480 with 1 Axes>"
      ]
     },
     "metadata": {},
     "output_type": "display_data"
    }
   ],
   "source": [
    "anomalous_l_cone = Cone.cone(537, template=\"stockman\", od=0.35, wavelengths=wavelengths)\n",
    "anomalous_m_cone = Cone.cone(525, template=\"stockman\", od=0.15, wavelengths=wavelengths)\n",
    "anomalous_s_cone = Cone.cone(319, template=\"stockman\", od=0.5, wavelengths=wavelengths)\n",
    "\n",
    "anomalous_lms_responses = np.vstack((anomalous_l_cone.data, anomalous_m_cone.data, anomalous_s_cone.data))\n",
    "\n",
    "\n",
    "plot_color_square(bound(lms_to_rgb_transformation @ anomalous_lms_responses @ spd_recovered))"
   ]
  },
  {
   "cell_type": "code",
   "execution_count": 141,
   "metadata": {},
   "outputs": [],
   "source": [
    "protanope = Observer.protanope(wavelengths)\n",
    "\n",
    "# Extract LMS responses (cone fundamentals)\n",
    "protanope_lms_responses = np.vstack((\n",
    "    np.zeros(protanope.sensors[0].data.shape),\n",
    "    protanope.sensors[1].data,  # M cone\n",
    "    protanope.sensors[0].data   # S cone\n",
    ")) * illuminant.data\n",
    "\n",
    "# Normalize LMS responses\n",
    "protanope_lms_responses /= protanope_lms_responses.sum(axis=0, keepdims=True)"
   ]
  },
  {
   "cell_type": "code",
   "execution_count": 144,
   "metadata": {},
   "outputs": [],
   "source": [
    "# Calculate RGB for protanope observer\n",
    "def protanope_rgb_from_spd(spd):\n",
    "    # Convert SPD to LMS for protanope\n",
    "    protanope_lms = protanope_lms_responses @ spd\n",
    "    print(\"protanope_lms: \", protanope_lms)\n",
    "\n",
    "    # Expand to include L channel as 0 (missing in protanope)\n",
    "    full_lms = lms_responses @ spd # np.concatenate(([0], protanope_lms))\n",
    "\n",
    "    # Convert LMS to RGB\n",
    "    ms_to_rgb_transformation = np.array([\n",
    "    [ 0, 1.05118294,  -0.05116099],\n",
    "    [ 0,  1, 0],\n",
    "    [ 0, 0,  1]\n",
    "    ])\n",
    "    rgb = lms_to_rgb_transformation @ ms_to_rgb_transformation @ full_lms\n",
    "    return np.clip(protanope_lms, 0, 1)"
   ]
  },
  {
   "cell_type": "code",
   "execution_count": 76,
   "metadata": {},
   "outputs": [],
   "source": [
    "# Calculate RGB for protanope observer\n",
    "def protanope_rgb_from_spd_2(spd):\n",
    "    # Load protanope observer\n",
    "    protanope = Observer.protanope(wavelengths)\n",
    "\n",
    "    # Extract LMS responses for protanope\n",
    "    protanope_lms_responses = np.vstack((\n",
    "        np.zeros(protanope.sensors[0].data.shape),\n",
    "        protanope.sensors[1].data,  # M cone\n",
    "        protanope.sensors[0].data   # S cone\n",
    "    )) * illuminant.data\n",
    "\n",
    "    # Normalize LMS responses\n",
    "    protanope_lms_responses /= protanope_lms_responses.sum(axis=0, keepdims=True)\n",
    "\n",
    "    \n",
    "\n",
    "    # Convert SPD to LMS for protanope\n",
    "    protanope_lms = protanope_lms_responses @ spd\n",
    "    print(protanope_lms)\n",
    "    print(protanope_lms.shape)\n",
    "\n",
    "    # Reconstruct RGB directly using spectral information\n",
    "    rgb = np.sum(spd[:, None] * lms_responses.T, axis=0)\n",
    "    return np.clip(rgb, 0, 1)\n"
   ]
  },
  {
   "cell_type": "code",
   "execution_count": 145,
   "metadata": {},
   "outputs": [
    {
     "name": "stdout",
     "output_type": "stream",
     "text": [
      "protanope_lms:  [ 0.          1.35285881  0.15399068]\n"
     ]
    },
    {
     "data": {
      "image/png": "[encoded data removed]",
      "text/plain": [
       "<Figure size 640x480 with 1 Axes>"
      ]
     },
     "metadata": {},
     "output_type": "display_data"
    },
    {
     "name": "stdout",
     "output_type": "stream",
     "text": [
      "Protanope RGB: [ 0.          1.          0.15399068]\n"
     ]
    }
   ],
   "source": [
    "# Calculate protanope RGB\n",
    "protanope_rgb = protanope_rgb_from_spd(spd_recovered)\n",
    "\n",
    "plot_color_square(protanope_rgb)\n",
    "\n",
    "print(\"Protanope RGB:\", protanope_rgb)\n"
   ]
  },
  {
   "cell_type": "code",
   "execution_count": 79,
   "metadata": {},
   "outputs": [],
   "source": [
    "# Calculate RGB for standard trichromat observer\n",
    "def trichromat_rgb_from_spd(spd):\n",
    "    # Convert SPD to LMS for standard trichromat\n",
    "    trichromat_lms = lms_responses @ spd\n",
    "\n",
    "    # Reconstruct RGB directly using spectral information\n",
    "    rgb = np.sum(spd[:, None] * lms_responses.T, axis=0)\n",
    "    return np.clip(rgb, 0, 1)"
   ]
  },
  {
   "cell_type": "code",
   "execution_count": 83,
   "metadata": {},
   "outputs": [
    {
     "name": "stdout",
     "output_type": "stream",
     "text": [
      "Trichromat RGB: [ 0.31416741  0.15556714  0.02238524]\n"
     ]
    },
    {
     "data": {
      "image/png": "[encoded data removed]",
      "text/plain": [
       "<Figure size 640x480 with 1 Axes>"
      ]
     },
     "metadata": {},
     "output_type": "display_data"
    }
   ],
   "source": [
    "trichromat_rgb = trichromat_rgb_from_spd(spd_recovered)\n",
    "print(\"Trichromat RGB:\", trichromat_rgb)\n",
    "plot_color_square(trichromat_rgb)\n"
   ]
  },
  {
   "cell_type": "code",
   "execution_count": null,
   "metadata": {},
   "outputs": [],
   "source": []
  }
 ],
 "metadata": {
  "kernelspec": {
   "display_name": "colors",
   "language": "python",
   "name": "python3"
  },
  "language_info": {
   "codemirror_mode": {
    "name": "ipython",
    "version": 3
   },
   "file_extension": ".py",
   "mimetype": "text/x-python",
   "name": "python",
   "nbconvert_exporter": "python",
   "pygments_lexer": "ipython3",
   "version": "3.11.10"
  }
 },
 "nbformat": 4,
 "nbformat_minor": 2
}
