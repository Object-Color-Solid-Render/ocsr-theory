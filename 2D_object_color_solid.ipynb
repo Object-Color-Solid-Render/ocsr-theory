{
  "nbformat": 4,
  "nbformat_minor": 0,
  "metadata": {
    "colab": {
      "provenance": []
    },
    "kernelspec": {
      "name": "python3",
      "display_name": "Python 3"
    },
    "language_info": {
      "name": "python"
    }
  },
  "cells": [
    {
      "cell_type": "code",
      "execution_count": 1,
      "metadata": {
        "colab": {
          "base_uri": "https://localhost:8080/",
          "height": 378
        },
        "id": "X_vhdyZ50ekv",
        "outputId": "d23cdb73-e6cd-4a90-9f88-f255319b39a5"
      },
      "outputs": [
        {
          "output_type": "error",
          "ename": "ModuleNotFoundError",
          "evalue": "No module named 'chromalab'",
          "traceback": [
            "\u001b[0;31m---------------------------------------------------------------------------\u001b[0m",
            "\u001b[0;31mModuleNotFoundError\u001b[0m                       Traceback (most recent call last)",
            "\u001b[0;32m<ipython-input-1-b7a65fc576b2>\u001b[0m in \u001b[0;36m<cell line: 1>\u001b[0;34m()\u001b[0m\n\u001b[0;32m----> 1\u001b[0;31m \u001b[0;32mfrom\u001b[0m \u001b[0mchromalab\u001b[0m\u001b[0;34m.\u001b[0m\u001b[0mobserver\u001b[0m \u001b[0;32mimport\u001b[0m \u001b[0mObserver\u001b[0m\u001b[0;34m,\u001b[0m \u001b[0mCone\u001b[0m\u001b[0;34m\u001b[0m\u001b[0;34m\u001b[0m\u001b[0m\n\u001b[0m\u001b[1;32m      2\u001b[0m \u001b[0;32mfrom\u001b[0m \u001b[0mchromalab\u001b[0m\u001b[0;34m.\u001b[0m\u001b[0mspectra\u001b[0m \u001b[0;32mimport\u001b[0m \u001b[0mSpectra\u001b[0m\u001b[0;34m,\u001b[0m \u001b[0mIlluminant\u001b[0m\u001b[0;34m\u001b[0m\u001b[0;34m\u001b[0m\u001b[0m\n\u001b[1;32m      3\u001b[0m \u001b[0;32mimport\u001b[0m \u001b[0mnumpy\u001b[0m \u001b[0;32mas\u001b[0m \u001b[0mnp\u001b[0m\u001b[0;34m\u001b[0m\u001b[0;34m\u001b[0m\u001b[0m\n\u001b[1;32m      4\u001b[0m \u001b[0;32mimport\u001b[0m \u001b[0mmatplotlib\u001b[0m\u001b[0;34m.\u001b[0m\u001b[0mpyplot\u001b[0m \u001b[0;32mas\u001b[0m \u001b[0mplt\u001b[0m\u001b[0;34m\u001b[0m\u001b[0;34m\u001b[0m\u001b[0m\n\u001b[1;32m      5\u001b[0m \u001b[0;32mfrom\u001b[0m \u001b[0mmatplotlib\u001b[0m\u001b[0;34m.\u001b[0m\u001b[0mcollections\u001b[0m \u001b[0;32mimport\u001b[0m \u001b[0mPolyCollection\u001b[0m\u001b[0;34m\u001b[0m\u001b[0;34m\u001b[0m\u001b[0m\n",
            "\u001b[0;31mModuleNotFoundError\u001b[0m: No module named 'chromalab'",
            "",
            "\u001b[0;31m---------------------------------------------------------------------------\u001b[0;32m\nNOTE: If your import is failing due to a missing package, you can\nmanually install dependencies using either !pip or !apt.\n\nTo view examples of installing some common dependencies, click the\n\"Open Examples\" button below.\n\u001b[0;31m---------------------------------------------------------------------------\u001b[0m\n"
          ],
          "errorDetails": {
            "actions": [
              {
                "action": "open_url",
                "actionText": "Open Examples",
                "url": "/notebooks/snippets/importing_libraries.ipynb"
              }
            ]
          }
        }
      ],
      "source": [
        "from chromalab.observer import Observer, Cone\n",
        "from chromalab.spectra import Spectra, Illuminant\n",
        "import numpy as np\n",
        "import matplotlib.pyplot as plt\n",
        "from matplotlib.collections import PolyCollection\n",
        "from tqdm import tqdm\n",
        "%matplotlib widget\n",
        "\n",
        "from skimage.draw import polygon"
      ]
    },
    {
      "cell_type": "code",
      "source": [
        "\n",
        "def dichromat_color_solid(ms_responses, wavelengths, rgb2rgb):\n",
        "    \"\"\"\n",
        "    input:\n",
        "    - responses: has shape (2, n)\n",
        "    - rgb2rgb: associated dichromat color mapping\n",
        "    - wavelneghts - set of wavelengths\n",
        "    return:\n",
        "    - vertices - optimal color vertices in responses[0] and responses[1]\n",
        "    vertex_colors - optimal colors as perceived by a dichromat\n",
        "    \"\"\"\n",
        "    # generate a list of optimal color vertices from the locus\n",
        "\n",
        "    vertices = np.zeros((n * 3, 2))\n",
        "    vertex_colors = np.zeros((n * 3, 3))\n",
        "\n",
        "    points = np.copy(ms_responses).T # generating vectors\n",
        "\n",
        "    for i in range(1, n + 1):\n",
        "        # fills up vertices from 1 to n\n",
        "        vertices[i] = vertices[i - 1] + points[i - 1]\n",
        "\n",
        "        # fill in the reflectance\n",
        "        reflectance_data = np.zeros(n)\n",
        "        for j in range(i):\n",
        "            # from black to white point\n",
        "            reflectance_data[j] = 1 # give 1 to all generating vectors associating with the particular position\n",
        "        reflectance = Spectra(wavelengths=wavelengths, data=reflectance_data)\n",
        "        vertex_colors[i] = reflectance.to_rgb(illuminant)\n",
        "        vertex_colors[i] = rgb2rgb @ vertex_colors[i]\n",
        "        s = ms_responses[:,0]\n",
        "\n",
        "    for i in range(1, n):\n",
        "        # fills up vertices from n+1 to 2n\n",
        "        vertices[i + n] = vertices[i + n - 1] - points[i - 1]\n",
        "        reflectance_data = np.zeros(n)\n",
        "        for j in reversed(range(i, n)):\n",
        "\n",
        "            # from black to white point\n",
        "            reflectance_data[j] = 1 # give 1 to all generating vectors associating with the particular position\n",
        "        reflectance = Spectra(wavelengths=wavelengths, data=reflectance_data)\n",
        "        vertex_colors[i + n] = reflectance.to_rgb(illuminant)\n",
        "        vertex_colors[i + n] = rgb2rgb @ vertex_colors[i + n]\n",
        "\n",
        "    # minmax normalize vertex colors\n",
        "    vertex_colors[:, 0] = (vertex_colors[:, 0] - np.min(vertex_colors[:, 0])) / (np.max(vertex_colors[:, 0]) - np.min(vertex_colors[:, 0]))\n",
        "    vertex_colors[:, 1] = (vertex_colors[:, 1] - np.min(vertex_colors[:, 1]))/ (np.max(vertex_colors[:, 1])- np.min(vertex_colors[:, 1]))\n",
        "    vertex_colors[:, 2] = (vertex_colors[:, 2]- np.min(vertex_colors[:, 2]) )/ (np.max(vertex_colors[:, 2])- np.min(vertex_colors[:, 2]))\n",
        "\n",
        "    # normalize vertex positions to (1,1)\n",
        "    vertices[:, 0] =  (vertices[:, 0] - np.min(vertices[:, 0])) / (np.max(vertices[:, 0]) - np.min(vertices[:, 0]))\n",
        "    vertices[:, 1] =  (vertices[:, 1] - np.min(vertices[:, 1])) / (np.max(vertices[:, 1]) - np.min(vertices[:, 1]))\n",
        "    return vertices, vertex_colors"
      ],
      "metadata": {
        "id": "Xru7HujX0fyD"
      },
      "execution_count": null,
      "outputs": []
    },
    {
      "cell_type": "markdown",
      "source": [
        "## Protanopia"
      ],
      "metadata": {
        "id": "OmzNpglN0j1T"
      }
    },
    {
      "cell_type": "code",
      "source": [
        "# Cone responses of a protanopic viewer\n",
        "wavelengths = np.arange(390, 701, 1)\n",
        "n = len(wavelengths)\n",
        "standard_dichromat = Observer.dichromat(wavelengths)\n",
        "illuminant = Illuminant.get(\"ISO 7589 Photographic Daylight\").interpolate_values(wavelengths)\n",
        "ms_responses = np.vstack((standard_dichromat.sensors[0].data,\n",
        "                           standard_dichromat.sensors[1].data))\n",
        "\n",
        "T_protanopia = np.array([\n",
        "    [0.170556992, 0.829443014, 0],\n",
        "    [0.170556991, 0.829443008, 0],\n",
        "    [-0.004517144, 0.004517144, 1]\n",
        "])"
      ],
      "metadata": {
        "colab": {
          "base_uri": "https://localhost:8080/",
          "height": 207
        },
        "id": "FrF5aZ4N0iGp",
        "outputId": "d8bc2177-9023-4a65-8839-fbc85d53ea08"
      },
      "execution_count": 2,
      "outputs": [
        {
          "output_type": "error",
          "ename": "NameError",
          "evalue": "name 'np' is not defined",
          "traceback": [
            "\u001b[0;31m---------------------------------------------------------------------------\u001b[0m",
            "\u001b[0;31mNameError\u001b[0m                                 Traceback (most recent call last)",
            "\u001b[0;32m<ipython-input-2-eef7110661bc>\u001b[0m in \u001b[0;36m<cell line: 2>\u001b[0;34m()\u001b[0m\n\u001b[1;32m      1\u001b[0m \u001b[0;31m# Cone responses of a protanopic viewer\u001b[0m\u001b[0;34m\u001b[0m\u001b[0;34m\u001b[0m\u001b[0m\n\u001b[0;32m----> 2\u001b[0;31m \u001b[0mwavelengths\u001b[0m \u001b[0;34m=\u001b[0m \u001b[0mnp\u001b[0m\u001b[0;34m.\u001b[0m\u001b[0marange\u001b[0m\u001b[0;34m(\u001b[0m\u001b[0;36m390\u001b[0m\u001b[0;34m,\u001b[0m \u001b[0;36m701\u001b[0m\u001b[0;34m,\u001b[0m \u001b[0;36m1\u001b[0m\u001b[0;34m)\u001b[0m\u001b[0;34m\u001b[0m\u001b[0;34m\u001b[0m\u001b[0m\n\u001b[0m\u001b[1;32m      3\u001b[0m \u001b[0mn\u001b[0m \u001b[0;34m=\u001b[0m \u001b[0mlen\u001b[0m\u001b[0;34m(\u001b[0m\u001b[0mwavelengths\u001b[0m\u001b[0;34m)\u001b[0m\u001b[0;34m\u001b[0m\u001b[0;34m\u001b[0m\u001b[0m\n\u001b[1;32m      4\u001b[0m \u001b[0mstandard_dichromat\u001b[0m \u001b[0;34m=\u001b[0m \u001b[0mObserver\u001b[0m\u001b[0;34m.\u001b[0m\u001b[0mdichromat\u001b[0m\u001b[0;34m(\u001b[0m\u001b[0mwavelengths\u001b[0m\u001b[0;34m)\u001b[0m\u001b[0;34m\u001b[0m\u001b[0;34m\u001b[0m\u001b[0m\n\u001b[1;32m      5\u001b[0m \u001b[0milluminant\u001b[0m \u001b[0;34m=\u001b[0m \u001b[0mIlluminant\u001b[0m\u001b[0;34m.\u001b[0m\u001b[0mget\u001b[0m\u001b[0;34m(\u001b[0m\u001b[0;34m\"ISO 7589 Photographic Daylight\"\u001b[0m\u001b[0;34m)\u001b[0m\u001b[0;34m.\u001b[0m\u001b[0minterpolate_values\u001b[0m\u001b[0;34m(\u001b[0m\u001b[0mwavelengths\u001b[0m\u001b[0;34m)\u001b[0m\u001b[0;34m\u001b[0m\u001b[0;34m\u001b[0m\u001b[0m\n",
            "\u001b[0;31mNameError\u001b[0m: name 'np' is not defined"
          ]
        }
      ]
    },
    {
      "cell_type": "code",
      "source": [
        "vertices, vertex_colors = dichromat_color_solid(ms_responses, wavelengths, T_protanopia)\n",
        "\n",
        "# Plot each vertex with its RGB color on a 2D grid\n",
        "fig, ax = plt.subplots()\n",
        "for i, vertex in enumerate(vertices):\n",
        "    ax.scatter(vertex[0], vertex[1], color=vertex_colors[i])\n",
        "    # Display RGB values near the vertex\n",
        "\n",
        "# Customize the plot\n",
        "ax.set_aspect('equal')\n",
        "plt.xlabel(\"S\")\n",
        "plt.ylabel(\"M\")\n",
        "plt.title(\"Protanopia optimal colors\")\n",
        "plt.grid(True)\n",
        "plt.show()"
      ],
      "metadata": {
        "id": "EQEGNL-h0lW7"
      },
      "execution_count": null,
      "outputs": []
    },
    {
      "cell_type": "markdown",
      "source": [
        "## Deuteranope"
      ],
      "metadata": {
        "id": "TX_Bb_xk1Bjo"
      }
    },
    {
      "cell_type": "code",
      "source": [
        "# Cone responses of a deuteranopic viewer\n",
        "wavelengths = np.arange(390, 701, 1)\n",
        "n = len(wavelengths)\n",
        "\n",
        "illuminant = Illuminant.get(\"ISO 7589 Photographic Daylight\").interpolate_values(wavelengths)\n",
        "deuteranope = Observer.deuteranope(wavelengths, illuminant)\n",
        "ls_responses = np.vstack((deuteranope.sensors[0].data,\n",
        "                           deuteranope.sensors[1].data))\n",
        "\n",
        "T_deuteranopia = np.array([\n",
        "    [0.33066007, 0.66933993, 0],\n",
        "    [0.33066007, 0.66933993, 0],\n",
        "    [-0.02785538, 0.02785538, 1]\n",
        "])"
      ],
      "metadata": {
        "id": "TmDfUOiL0nQm"
      },
      "execution_count": null,
      "outputs": []
    },
    {
      "cell_type": "code",
      "source": [
        "vertices, vertex_colors = dichromat_color_solid(ls_responses, wavelengths, T_deuteranopia)\n",
        "\n",
        "# Plot each vertex with its RGB color on a 2D grid\n",
        "fig, ax = plt.subplots()\n",
        "for i, vertex in enumerate(vertices):\n",
        "    ax.scatter(vertex[0], vertex[1], color=vertex_colors[i])\n",
        "    # Display RGB values near the vertex\n",
        "\n",
        "# Customize the plot\n",
        "ax.set_aspect('equal')\n",
        "plt.xlabel(\"S\")\n",
        "plt.ylabel(\"L\")\n",
        "plt.title(\"Deuteranopia optimal colors\")\n",
        "plt.grid(True)\n",
        "plt.show()"
      ],
      "metadata": {
        "id": "2Q2Bozjl0p5l"
      },
      "execution_count": null,
      "outputs": []
    },
    {
      "cell_type": "markdown",
      "source": [
        "## Tritanopia"
      ],
      "metadata": {
        "id": "1Xnti7DQ1EG5"
      }
    },
    {
      "cell_type": "code",
      "source": [
        "# Cone responses of a tritanopic viewer\n",
        "wavelengths = np.arange(390, 701, 1)\n",
        "n = len(wavelengths)\n",
        "\n",
        "illuminant = Illuminant.get(\"ISO 7589 Photographic Daylight\").interpolate_values(wavelengths)\n",
        "tritanope = Observer.tritanope(wavelengths, illuminant)\n",
        "lm_responses = np.vstack((tritanope.sensors[0].data,\n",
        "                           tritanope.sensors[1].data))\n",
        "\n",
        "T_tritanopia = np.array([\n",
        "    [1, 0.1273989, -0.1273989],\n",
        "    [0, 0.8739093, 0.1260907],\n",
        "    [0, 0.8739093, 0.1260907]\n",
        "])"
      ],
      "metadata": {
        "id": "9d4rTUz20rja"
      },
      "execution_count": null,
      "outputs": []
    },
    {
      "cell_type": "code",
      "source": [
        "vertices, vertex_colors = dichromat_color_solid(lm_responses, wavelengths, T_tritanopia)\n",
        "\n",
        "# Plot each vertex with its RGB color on a 2D grid\n",
        "fig, ax = plt.subplots()\n",
        "for i, vertex in enumerate(vertices):\n",
        "    ax.scatter(vertex[0], vertex[1], color=vertex_colors[i])\n",
        "    # Display RGB values near the vertex\n",
        "\n",
        "# Customize the plot\n",
        "ax.set_aspect('equal')\n",
        "plt.xlabel(\"M\")\n",
        "plt.ylabel(\"L\")\n",
        "plt.title(\"Tritanopia optimal colors\")\n",
        "plt.grid(True)\n",
        "plt.show()"
      ],
      "metadata": {
        "id": "CfW4e7x-0twt"
      },
      "execution_count": null,
      "outputs": []
    }
  ]
}